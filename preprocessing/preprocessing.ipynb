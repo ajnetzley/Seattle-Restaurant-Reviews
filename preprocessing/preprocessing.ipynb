{
 "cells": [
  {
   "cell_type": "code",
   "execution_count": 63,
   "metadata": {},
   "outputs": [],
   "source": [
    "import os\n",
    "import numpy as np\n",
    "import pandas as pd\n",
    "import openpyxl\n",
    "from openpyxl import load_workbook\n",
    " \n",
    "data_folder = os.path.join(os.path.dirname(os.getcwd())+'/data/')\n",
    "\n",
    "#Read in Yelp Data\n",
    "yelp_data_raw = pd.read_csv(os.path.join(data_folder, 'Restaurants_Seattle_Updated.csv'))\n",
    "\n",
    "#Remove all rows without ratings\n",
    "yelp_data = yelp_data_raw[yelp_data_raw['Yelp Rating'].notna()]\n",
    "yelp_data = yelp_data_raw[yelp_data_raw['Yelp Num Reviews'].notna()]\n",
    "\n",
    "#Drop irrelevant Columns\n",
    "yelp_data = yelp_data.drop(columns=['Unnamed: 0', 'Encoded Name', 'Searched City', 'Yelp URL'])\n",
    "\n",
    "#Drop Duplicate entries\n",
    "yelp_data = yelp_data.drop_duplicates( subset = ['Name', 'Yelp Address'])\n",
    "\n",
    "#Drop entries that are not from Seattle\n",
    "yelp_data = yelp_data[yelp_data['Yelp Address'].str.contains(\"Seattle\", na=False)]\n",
    "yelp_data[\"Zip Code\"] = yelp_data['Yelp Address'].str.strip().str[-5:]\n",
    "\n",
    "#Tool for extracting neighborhood from zip\n",
    "neighborhood_zipcode = {}\n",
    "zipcode = ['98101', '98102', '98103', '98104', '98105', '98107','98109', '98112', '98121', '98122', '98125', '98133']\n",
    "neighborhood = ['Downtown', 'Capitol Hill', 'Fremont/Wallingford', 'Chinatown', 'University District', 'Ballard', 'Queen Anne/South Lake Union', 'Capitol Hill', 'Belltown', 'Capitol Hill', 'Northgate', 'Bitter Lake']\n",
    "for i in range(len(zipcode)):\n",
    "    neighborhood_zipcode[zipcode[i]] = neighborhood[i]\n",
    "yelp_data['Neighborhood'] = 'Other'\n",
    "yelp_data['Neighborhood'] = yelp_data['Zip Code'].map(neighborhood_zipcode).fillna(yelp_data['Neighborhood'])\n",
    "yelp_data = yelp_data.drop(columns=['Yelp Neighborhood'])\n",
    "\n",
    "#Export to csv\n",
    "yelp_data.to_csv(os.path.join(data_folder, 'Yelp_Processed.csv'))"
   ]
  },
  {
   "cell_type": "code",
   "execution_count": 78,
   "metadata": {},
   "outputs": [],
   "source": [
    "tags = yelp_data[\"Yelp Tags\"]\n",
    "tags = tags.replace('[\\[\\]\\\"\\' ]', '', regex=True)\n",
    "unique_tags = {}\n",
    "for row in tags:\n",
    "    for tag in row.split(','):\n",
    "        if tag not in unique_tags.keys():\n",
    "            unique_tags[tag] = 1\n",
    "        else:\n",
    "            unique_tags[tag] += 1\n",
    "sorted_dict = dict(sorted(unique_tags.items(), key=lambda item: item[1], reverse=True))\n",
    "\n",
    "top_ten_count = np.array(list(sorted_dict.items())[:30])\n",
    "\n",
    "new_categories = list(top_ten_count[:, 0])"
   ]
  }
 ],
 "metadata": {
  "kernelspec": {
   "display_name": "Python 3",
   "language": "python",
   "name": "python3"
  },
  "language_info": {
   "codemirror_mode": {
    "name": "ipython",
    "version": 3
   },
   "file_extension": ".py",
   "mimetype": "text/x-python",
   "name": "python",
   "nbconvert_exporter": "python",
   "pygments_lexer": "ipython3",
   "version": "3.10.13"
  }
 },
 "nbformat": 4,
 "nbformat_minor": 2
}
