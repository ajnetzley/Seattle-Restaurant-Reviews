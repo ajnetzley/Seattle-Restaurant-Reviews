{
 "cells": [
  {
   "cell_type": "code",
   "execution_count": 33,
   "metadata": {},
   "outputs": [
    {
     "name": "stdout",
     "output_type": "stream",
     "text": [
      "41\n"
     ]
    }
   ],
   "source": [
    "import os\n",
    "import numpy as np\n",
    "import pandas as pd\n",
    "import openpyxl\n",
    "from openpyxl import load_workbook\n",
    " \n",
    "data_folder = os.path.join(os.path.dirname(os.getcwd())+'/data/')\n",
    "\n",
    "extracted_data = {}\n",
    "\n",
    "for file in os.listdir(data_folder):\n",
    "    filepath = os.path.join(data_folder, file)\n",
    "    dataframe = pd.read_excel(filepath, engine = 'openpyxl')\n",
    "    extracted_data[file] = dataframe\n",
    "\n",
    "# for name, data in extracted_data.items():\n",
    "#     print(f\"{name}:{data.shape}\")\n",
    "\n",
    "trip_advisor_data = extracted_data[\"trip_advisor_v2.xlsx\"]\n",
    "yelp_data = extracted_data[\"yelp_data_scraped2023.xlsx\"]\n",
    "\n",
    "combined_df = pd.merge(trip_advisor_data, yelp_data, left_on=['Restaurant'], right_on=['Name'], how='outer')\n",
    "\n",
    "print(yelp_data.shape[0] + trip_advisor_data.shape[0] - combined_df.shape[0])"
   ]
  }
 ],
 "metadata": {
  "kernelspec": {
   "display_name": "Python 3",
   "language": "python",
   "name": "python3"
  },
  "language_info": {
   "codemirror_mode": {
    "name": "ipython",
    "version": 3
   },
   "file_extension": ".py",
   "mimetype": "text/x-python",
   "name": "python",
   "nbconvert_exporter": "python",
   "pygments_lexer": "ipython3",
   "version": "3.10.13"
  }
 },
 "nbformat": 4,
 "nbformat_minor": 2
}
