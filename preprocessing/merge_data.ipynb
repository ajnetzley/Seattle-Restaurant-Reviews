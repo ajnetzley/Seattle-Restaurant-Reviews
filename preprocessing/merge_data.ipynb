{
 "cells": [
  {
   "cell_type": "code",
   "execution_count": null,
   "metadata": {},
   "outputs": [],
   "source": [
    "!pip install usaddress\n",
    "!pip install rapidfuzz"
   ]
  },
  {
   "cell_type": "code",
   "execution_count": 3,
   "metadata": {},
   "outputs": [],
   "source": [
    "import pandas as pd\n",
    "import usaddress\n",
    "from rapidfuzz import process, fuzz"
   ]
  },
  {
   "cell_type": "code",
   "execution_count": null,
   "metadata": {},
   "outputs": [],
   "source": [
    "# Load the CSV files into Pandas dataframes\n",
    "google_df = pd.read_csv('data/Google_Processed.csv')\n",
    "tripadvisor_df = pd.read_csv('data/Trip_Advisor_Processed.csv')\n",
    "yelp_df = pd.read_csv('data/Yelp_Processed.csv')\n",
    "\n",
    "# Display the first few rows of each dataframe\n",
    "google_df.head(), tripadvisor_df.head(), yelp_df.head()"
   ]
  },
  {
   "cell_type": "code",
   "execution_count": null,
   "metadata": {},
   "outputs": [],
   "source": [
    "# Check neighborhood columns\n",
    "print(sorted(google_df['Neighborhood'].unique()))\n",
    "print(sorted(tripadvisor_df['Neighborhood'].unique()))\n",
    "print(sorted(yelp_df['Neighborhood'].unique()))\n",
    "\n",
    "# Check dataset shape\n",
    "print(google_df.shape)\n",
    "print(tripadvisor_df.shape)\n",
    "print(yelp_df.shape)\n",
    "print(google_df.shape[0] + tripadvisor_df.shape[0] + yelp_df.shape[0])"
   ]
  },
  {
   "cell_type": "code",
   "execution_count": 6,
   "metadata": {},
   "outputs": [],
   "source": [
    "# Function to extract street names\n",
    "def extract_street_name(address):\n",
    "    try:\n",
    "        parsed_address = usaddress.parse(address)\n",
    "        # Extract the street name from the parsed address components\n",
    "        street_name = ' '.join([part[0] for part in parsed_address if 'StreetName' in part[1]])\n",
    "        return street_name\n",
    "    except usaddress.RepeatedLabelError as e:\n",
    "        print(f\"Error parsing address: {address}\")\n",
    "        return None\n",
    "\n",
    "# Apply the function to the address columns\n",
    "google_df['Street Name'] = google_df['Address'].apply(extract_street_name)\n",
    "tripadvisor_df['Street Name'] = tripadvisor_df['Address'].apply(extract_street_name)\n",
    "yelp_df['Street Name'] = yelp_df['Address'].apply(extract_street_name)"
   ]
  },
  {
   "cell_type": "code",
   "execution_count": 7,
   "metadata": {},
   "outputs": [],
   "source": [
    "def get_best_match(row, target_df, column_name, scorer=fuzz.WRatio, score_cutoff=70):\n",
    "    \"\"\"\n",
    "    Find the best match for a given name in a target DataFrame's column.\n",
    "    \n",
    "    Parameters:\n",
    "    - row: The row of the source DataFrame.\n",
    "    - target_df: DataFrame containing potential matches.\n",
    "    - column_name: The name of the column in target_df to search for matches.\n",
    "    - scorer: The RapidFuzz scoring function to use.\n",
    "    - score_cutoff: The minimum score to consider a match (0-100).\n",
    "    \n",
    "    Returns:\n",
    "    A tuple of the best match and its score, or None if no match above the cutoff.\n",
    "    \"\"\"\n",
    "    best_match = process.extractOne(row[column_name], target_df[column_name], \n",
    "                                    scorer=scorer, score_cutoff=score_cutoff)\n",
    "    return best_match[0] if best_match else row[column_name]"
   ]
  },
  {
   "cell_type": "code",
   "execution_count": 8,
   "metadata": {},
   "outputs": [],
   "source": [
    "google_df['Name'] = google_df.apply(get_best_match, target_df=tripadvisor_df, column_name='Name', axis=1)\n"
   ]
  },
  {
   "cell_type": "code",
   "execution_count": null,
   "metadata": {},
   "outputs": [],
   "source": [
    "# Merge strategy based on the Street Name, Zip Code, and Name (fuzzy-match) as keys for merging\n",
    "\n",
    "merged_df = pd.merge(google_df, tripadvisor_df, left_on=['Name', 'Zip Code', 'Street Name'], right_on=['Name', 'Zip Code', 'Street Name'], how='outer', suffixes=('_google', '_tripadvisor'))\n",
    "merged_df['Name'] = merged_df.apply(get_best_match, target_df=yelp_df, column_name='Name', axis=1)\n",
    "merged_df = pd.merge(merged_df, yelp_df, on=['Name', 'Zip Code', 'Street Name'], how='outer')\n",
    "merged_df"
   ]
  },
  {
   "cell_type": "code",
   "execution_count": null,
   "metadata": {},
   "outputs": [],
   "source": [
    "merged_df = merged_df.drop_duplicates(keep='last')\n",
    "merged_df"
   ]
  },
  {
   "cell_type": "code",
   "execution_count": 13,
   "metadata": {},
   "outputs": [],
   "source": [
    "merged_df.to_csv(\"CompleteRestaurantData.csv\")"
   ]
  }
 ],
 "metadata": {
  "kernelspec": {
   "display_name": "base",
   "language": "python",
   "name": "python3"
  },
  "language_info": {
   "codemirror_mode": {
    "name": "ipython",
    "version": 3
   },
   "file_extension": ".py",
   "mimetype": "text/x-python",
   "name": "python",
   "nbconvert_exporter": "python",
   "pygments_lexer": "ipython3",
   "version": "3.11.5"
  }
 },
 "nbformat": 4,
 "nbformat_minor": 2
}
