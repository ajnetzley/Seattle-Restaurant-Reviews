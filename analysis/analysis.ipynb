{
 "cells": [
  {
   "cell_type": "code",
   "execution_count": null,
   "metadata": {},
   "outputs": [],
   "source": [
    "#Alex Netzley\n",
    "#2/18/2024\n",
    "\n",
    "import os\n",
    "import numpy as np\n",
    "import pandas as pd\n",
    "import openpyxl\n",
    "from openpyxl import load_workbook\n",
    "import matplotlib.pyplot as plt"
   ]
  },
  {
   "cell_type": "code",
   "execution_count": null,
   "metadata": {},
   "outputs": [],
   "source": [
    "#Loading in the data\n",
    "data_folder = os.path.join(os.path.dirname(os.getcwd())+'/data/')\n",
    "#Read in Yelp Data\n",
    "yelp_data = pd.read_csv(os.path.join(data_folder, 'yelp_Processed.csv'))"
   ]
  },
  {
   "cell_type": "code",
   "execution_count": null,
   "metadata": {},
   "outputs": [],
   "source": [
    "#Preliminary EDA\n",
    "\n",
    "print(len(yelp_data))\n",
    "\n",
    "#Extract average number of reviews\n",
    "print(np.mean(yelp_data['Yelp Num Reviews']))\n",
    "print(np.mean(yelp_data['Yelp Rating'].astype('Float32')))"
   ]
  },
  {
   "cell_type": "code",
   "execution_count": null,
   "metadata": {},
   "outputs": [],
   "source": [
    "#Processing the Restaurant Types\n",
    "tags = yelp_data[\"Yelp Tags\"]\n",
    "tags = tags.replace('[\\[\\]\\\"\\' ]', '', regex=True)\n",
    "unique_tags = {}\n",
    "for row in tags:\n",
    "    for tag in row.split(','):\n",
    "        if tag not in unique_tags.keys():\n",
    "            unique_tags[tag] = 1\n",
    "        else:\n",
    "            unique_tags[tag] += 1\n",
    "sorted_dict = dict(sorted(unique_tags.items(), key=lambda item: item[1], reverse=True))\n",
    "\n",
    "top_ten_count = np.array(list(sorted_dict.items())[:20])\n",
    "\n",
    "new_categories = list(top_ten_count[:, 0])"
   ]
  },
  {
   "cell_type": "code",
   "execution_count": null,
   "metadata": {},
   "outputs": [],
   "source": [
    "#Plotting Tags\n",
    "ttc_df = pd.DataFrame({'Restaurant Type':top_ten_count[:, 0], 'Count':top_ten_count[:, 1]})\n",
    "plt.barh(top_ten_count[:, 0], top_ten_count[:, 1].astype(int))\n",
    "#plt.xticks(rotation=45)\n",
    "plt.title('Count of Most Frequent Restaurant Type Tags')\n",
    "plt.show()"
   ]
  },
  {
   "cell_type": "code",
   "execution_count": null,
   "metadata": {},
   "outputs": [],
   "source": [
    "yelp_data_seafood = yelp_data[yelp_data['Yelp Tags'].str.contains(\"New\", na=False)]\n",
    "plt.hist(yelp_data_seafood['Yelp Rating'].astype('Float32'))\n",
    "plt.title('Histogram of Star Rating for New American Restaurants')\n",
    "plt.xlabel('Star Rating')"
   ]
  }
 ],
 "metadata": {
  "language_info": {
   "name": "python"
  }
 },
 "nbformat": 4,
 "nbformat_minor": 2
}
